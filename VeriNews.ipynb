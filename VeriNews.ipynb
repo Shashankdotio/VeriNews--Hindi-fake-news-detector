{
 "cells": [
  {
   "cell_type": "markdown",
   "id": "b44ebb9e-2853-4bb8-9cf6-c6aff451d4f1",
   "metadata": {},
   "source": [
    "# VeriNews: Hindi Fake news detection:"
   ]
  },
  {
   "cell_type": "markdown",
   "id": "55c969f0-ccc7-4682-bad7-3c80e5250c34",
   "metadata": {},
   "source": [
    "## 1. Load Dataset:"
   ]
  },
  {
   "cell_type": "code",
   "execution_count": 1,
   "id": "835084ea-9b30-4a9c-9593-348ca98bfb82",
   "metadata": {},
   "outputs": [],
   "source": [
    "import pandas as pd"
   ]
  },
  {
   "cell_type": "code",
   "execution_count": 2,
   "id": "6573e1da-8902-4866-82cf-4bc1347014d2",
   "metadata": {},
   "outputs": [],
   "source": [
    "df_fake = pd.read_csv('FakeNews.csv')\n",
    "df_true = pd.read_csv('TrueNews.csv')"
   ]
  },
  {
   "cell_type": "markdown",
   "id": "300e9246-eea1-45bb-829d-dbd615734281",
   "metadata": {},
   "source": [
    "## 2. Data Preview:"
   ]
  },
  {
   "cell_type": "code",
   "execution_count": 3,
   "id": "df679752-4073-4aeb-8beb-a889065a08c8",
   "metadata": {},
   "outputs": [
    {
     "data": {
      "text/html": [
       "<div>\n",
       "<style scoped>\n",
       "    .dataframe tbody tr th:only-of-type {\n",
       "        vertical-align: middle;\n",
       "    }\n",
       "\n",
       "    .dataframe tbody tr th {\n",
       "        vertical-align: top;\n",
       "    }\n",
       "\n",
       "    .dataframe thead th {\n",
       "        text-align: right;\n",
       "    }\n",
       "</style>\n",
       "<table border=\"1\" class=\"dataframe\">\n",
       "  <thead>\n",
       "    <tr style=\"text-align: right;\">\n",
       "      <th></th>\n",
       "      <th>Column1</th>\n",
       "      <th>short_description</th>\n",
       "    </tr>\n",
       "  </thead>\n",
       "  <tbody>\n",
       "    <tr>\n",
       "      <th>0</th>\n",
       "      <td>1</td>\n",
       "      <td>गडकरी ने नहीं दिया है पीएम मोदी और राम मंदिर ...</td>\n",
       "    </tr>\n",
       "    <tr>\n",
       "      <th>1</th>\n",
       "      <td>2</td>\n",
       "      <td>राम मंदिर वहीं बना है जहां रामलला विराजमान थे...</td>\n",
       "    </tr>\n",
       "    <tr>\n",
       "      <th>2</th>\n",
       "      <td>3</td>\n",
       "      <td>यूपी में बोर्ड की परीक्षा नहीं हुई है रद्द, य...</td>\n",
       "    </tr>\n",
       "    <tr>\n",
       "      <th>3</th>\n",
       "      <td>4</td>\n",
       "      <td>नेपाल से अयोध्या के जुलूस का नहीं, ये ग्रेटर ...</td>\n",
       "    </tr>\n",
       "    <tr>\n",
       "      <th>4</th>\n",
       "      <td>5</td>\n",
       "      <td>एमपी का सीएम बनने के बाद मोहन यादव ने दी जनता...</td>\n",
       "    </tr>\n",
       "  </tbody>\n",
       "</table>\n",
       "</div>"
      ],
      "text/plain": [
       "   Column1                                  short_description\n",
       "0        1   गडकरी ने नहीं दिया है पीएम मोदी और राम मंदिर ...\n",
       "1        2   राम मंदिर वहीं बना है जहां रामलला विराजमान थे...\n",
       "2        3   यूपी में बोर्ड की परीक्षा नहीं हुई है रद्द, य...\n",
       "3        4   नेपाल से अयोध्या के जुलूस का नहीं, ये ग्रेटर ...\n",
       "4        5   एमपी का सीएम बनने के बाद मोहन यादव ने दी जनता..."
      ]
     },
     "execution_count": 3,
     "metadata": {},
     "output_type": "execute_result"
    }
   ],
   "source": [
    "df_fake.head()"
   ]
  },
  {
   "cell_type": "code",
   "execution_count": 4,
   "id": "86caa540-0436-4255-80d8-c1a98aa2f09f",
   "metadata": {},
   "outputs": [
    {
     "data": {
      "text/html": [
       "<div>\n",
       "<style scoped>\n",
       "    .dataframe tbody tr th:only-of-type {\n",
       "        vertical-align: middle;\n",
       "    }\n",
       "\n",
       "    .dataframe tbody tr th {\n",
       "        vertical-align: top;\n",
       "    }\n",
       "\n",
       "    .dataframe thead th {\n",
       "        text-align: right;\n",
       "    }\n",
       "</style>\n",
       "<table border=\"1\" class=\"dataframe\">\n",
       "  <thead>\n",
       "    <tr style=\"text-align: right;\">\n",
       "      <th></th>\n",
       "      <th>Column1</th>\n",
       "      <th>short_description</th>\n",
       "    </tr>\n",
       "  </thead>\n",
       "  <tbody>\n",
       "    <tr>\n",
       "      <th>2699</th>\n",
       "      <td>2700</td>\n",
       "      <td>राजस्थान की महिला MLA की छवि खराब करने के लि...</td>\n",
       "    </tr>\n",
       "    <tr>\n",
       "      <th>2700</th>\n",
       "      <td>2701</td>\n",
       "      <td>मध्य प्रदेश की साल 2019 की घटना को हालिया बत...</td>\n",
       "    </tr>\n",
       "    <tr>\n",
       "      <th>2701</th>\n",
       "      <td>2702</td>\n",
       "      <td>खुर्जा में बोइंग का वेयरहाउस खुला, लेकिन वायर...</td>\n",
       "    </tr>\n",
       "    <tr>\n",
       "      <th>2702</th>\n",
       "      <td>2703</td>\n",
       "      <td>जलते हुए समुद्री जहाज का यह वीडियो 2020 का है...</td>\n",
       "    </tr>\n",
       "    <tr>\n",
       "      <th>2703</th>\n",
       "      <td>2704</td>\n",
       "      <td>ढांचे वाली जगह पर ही बन रहा मंदिर, तीन किलोमी...</td>\n",
       "    </tr>\n",
       "  </tbody>\n",
       "</table>\n",
       "</div>"
      ],
      "text/plain": [
       "      Column1                                  short_description\n",
       "2699     2700    राजस्थान की महिला MLA की छवि खराब करने के लि...\n",
       "2700     2701    मध्य प्रदेश की साल 2019 की घटना को हालिया बत...\n",
       "2701     2702   खुर्जा में बोइंग का वेयरहाउस खुला, लेकिन वायर...\n",
       "2702     2703   जलते हुए समुद्री जहाज का यह वीडियो 2020 का है...\n",
       "2703     2704   ढांचे वाली जगह पर ही बन रहा मंदिर, तीन किलोमी..."
      ]
     },
     "execution_count": 4,
     "metadata": {},
     "output_type": "execute_result"
    }
   ],
   "source": [
    "df_fake.tail()"
   ]
  },
  {
   "cell_type": "code",
   "execution_count": 5,
   "id": "1aca281f-e088-402a-a52c-0894ad1aca86",
   "metadata": {},
   "outputs": [
    {
     "name": "stdout",
     "output_type": "stream",
     "text": [
      "<class 'pandas.core.frame.DataFrame'>\n",
      "RangeIndex: 2704 entries, 0 to 2703\n",
      "Data columns (total 2 columns):\n",
      " #   Column             Non-Null Count  Dtype \n",
      "---  ------             --------------  ----- \n",
      " 0   Column1            2704 non-null   int64 \n",
      " 1   short_description  2704 non-null   object\n",
      "dtypes: int64(1), object(1)\n",
      "memory usage: 42.4+ KB\n"
     ]
    }
   ],
   "source": [
    "df_fake.info()"
   ]
  },
  {
   "cell_type": "code",
   "execution_count": 6,
   "id": "a2b6806d-907c-40fa-a716-e293f5ba268e",
   "metadata": {},
   "outputs": [
    {
     "data": {
      "text/html": [
       "<div>\n",
       "<style scoped>\n",
       "    .dataframe tbody tr th:only-of-type {\n",
       "        vertical-align: middle;\n",
       "    }\n",
       "\n",
       "    .dataframe tbody tr th {\n",
       "        vertical-align: top;\n",
       "    }\n",
       "\n",
       "    .dataframe thead th {\n",
       "        text-align: right;\n",
       "    }\n",
       "</style>\n",
       "<table border=\"1\" class=\"dataframe\">\n",
       "  <thead>\n",
       "    <tr style=\"text-align: right;\">\n",
       "      <th></th>\n",
       "      <th>Column1</th>\n",
       "      <th>short_description</th>\n",
       "    </tr>\n",
       "  </thead>\n",
       "  <tbody>\n",
       "    <tr>\n",
       "      <th>0</th>\n",
       "      <td>1</td>\n",
       "      <td>राम मंदिर प्राण-प्रतिष्ठा: फर्श पर सोना-नारियल...</td>\n",
       "    </tr>\n",
       "    <tr>\n",
       "      <th>1</th>\n",
       "      <td>2</td>\n",
       "      <td>Ayodhya Ram Mandir Pran Pratishtha से पहले कठि...</td>\n",
       "    </tr>\n",
       "    <tr>\n",
       "      <th>2</th>\n",
       "      <td>3</td>\n",
       "      <td>8 PHOTOS:देखें रामलला की प्राण-प्रतिष्ठा से पह...</td>\n",
       "    </tr>\n",
       "    <tr>\n",
       "      <th>3</th>\n",
       "      <td>4</td>\n",
       "      <td>22 जनवरी को अयोध्या में कैसा रहेगा मौसम, जानें...</td>\n",
       "    </tr>\n",
       "    <tr>\n",
       "      <th>4</th>\n",
       "      <td>5</td>\n",
       "      <td>सोलापुर में PM की 15 बड़ी बातें, मोदी के 22 जन...</td>\n",
       "    </tr>\n",
       "  </tbody>\n",
       "</table>\n",
       "</div>"
      ],
      "text/plain": [
       "   Column1                                  short_description\n",
       "0        1  राम मंदिर प्राण-प्रतिष्ठा: फर्श पर सोना-नारियल...\n",
       "1        2  Ayodhya Ram Mandir Pran Pratishtha से पहले कठि...\n",
       "2        3  8 PHOTOS:देखें रामलला की प्राण-प्रतिष्ठा से पह...\n",
       "3        4  22 जनवरी को अयोध्या में कैसा रहेगा मौसम, जानें...\n",
       "4        5  सोलापुर में PM की 15 बड़ी बातें, मोदी के 22 जन..."
      ]
     },
     "execution_count": 6,
     "metadata": {},
     "output_type": "execute_result"
    }
   ],
   "source": [
    "df_true.head()"
   ]
  },
  {
   "cell_type": "code",
   "execution_count": 7,
   "id": "e47d70e5-ef78-441f-9c22-cea4d6028993",
   "metadata": {},
   "outputs": [
    {
     "data": {
      "text/html": [
       "<div>\n",
       "<style scoped>\n",
       "    .dataframe tbody tr th:only-of-type {\n",
       "        vertical-align: middle;\n",
       "    }\n",
       "\n",
       "    .dataframe tbody tr th {\n",
       "        vertical-align: top;\n",
       "    }\n",
       "\n",
       "    .dataframe thead th {\n",
       "        text-align: right;\n",
       "    }\n",
       "</style>\n",
       "<table border=\"1\" class=\"dataframe\">\n",
       "  <thead>\n",
       "    <tr style=\"text-align: right;\">\n",
       "      <th></th>\n",
       "      <th>Column1</th>\n",
       "      <th>short_description</th>\n",
       "    </tr>\n",
       "  </thead>\n",
       "  <tbody>\n",
       "    <tr>\n",
       "      <th>2699</th>\n",
       "      <td>2700</td>\n",
       "      <td>राजस्थान की महिला MLA की छवि खराब करने के लि...</td>\n",
       "    </tr>\n",
       "    <tr>\n",
       "      <th>2700</th>\n",
       "      <td>2701</td>\n",
       "      <td>मध्य प्रदेश की साल 2019 की घटना को हालिया बत...</td>\n",
       "    </tr>\n",
       "    <tr>\n",
       "      <th>2701</th>\n",
       "      <td>2702</td>\n",
       "      <td>खुर्जा में बोइंग का वेयरहाउस खुला, लेकिन वायर...</td>\n",
       "    </tr>\n",
       "    <tr>\n",
       "      <th>2702</th>\n",
       "      <td>2703</td>\n",
       "      <td>जलते हुए समुद्री जहाज का यह वीडियो 2020 का है...</td>\n",
       "    </tr>\n",
       "    <tr>\n",
       "      <th>2703</th>\n",
       "      <td>2704</td>\n",
       "      <td>ढांचे वाली जगह पर ही बन रहा मंदिर, तीन किलोमी...</td>\n",
       "    </tr>\n",
       "  </tbody>\n",
       "</table>\n",
       "</div>"
      ],
      "text/plain": [
       "      Column1                                  short_description\n",
       "2699     2700    राजस्थान की महिला MLA की छवि खराब करने के लि...\n",
       "2700     2701    मध्य प्रदेश की साल 2019 की घटना को हालिया बत...\n",
       "2701     2702   खुर्जा में बोइंग का वेयरहाउस खुला, लेकिन वायर...\n",
       "2702     2703   जलते हुए समुद्री जहाज का यह वीडियो 2020 का है...\n",
       "2703     2704   ढांचे वाली जगह पर ही बन रहा मंदिर, तीन किलोमी..."
      ]
     },
     "execution_count": 7,
     "metadata": {},
     "output_type": "execute_result"
    }
   ],
   "source": [
    "df_fake.tail()"
   ]
  },
  {
   "cell_type": "code",
   "execution_count": 8,
   "id": "69e096fb-44ab-499d-aa99-a51131ccf66e",
   "metadata": {},
   "outputs": [
    {
     "name": "stdout",
     "output_type": "stream",
     "text": [
      "<class 'pandas.core.frame.DataFrame'>\n",
      "RangeIndex: 4020 entries, 0 to 4019\n",
      "Data columns (total 2 columns):\n",
      " #   Column             Non-Null Count  Dtype \n",
      "---  ------             --------------  ----- \n",
      " 0   Column1            4020 non-null   int64 \n",
      " 1   short_description  4020 non-null   object\n",
      "dtypes: int64(1), object(1)\n",
      "memory usage: 62.9+ KB\n"
     ]
    }
   ],
   "source": [
    "df_true.info()"
   ]
  },
  {
   "cell_type": "code",
   "execution_count": 9,
   "id": "e31d9003-e863-48d8-9d24-ed88d4a92d05",
   "metadata": {},
   "outputs": [],
   "source": [
    "df_fake[\"class\"] = 0\n",
    "df_true[\"class\"] = 1"
   ]
  },
  {
   "cell_type": "code",
   "execution_count": 10,
   "id": "521dd343-3e46-486a-bd75-234a9b70fd69",
   "metadata": {},
   "outputs": [
    {
     "data": {
      "text/plain": [
       "((2704, 3), (4020, 3))"
      ]
     },
     "execution_count": 10,
     "metadata": {},
     "output_type": "execute_result"
    }
   ],
   "source": [
    "df_fake.shape, df_true.shape"
   ]
  },
  {
   "cell_type": "markdown",
   "id": "7b69f874-81d5-437f-9b2c-598130b5a736",
   "metadata": {},
   "source": [
    "### Saving some data for manual testing:"
   ]
  },
  {
   "cell_type": "code",
   "execution_count": 11,
   "id": "b27c3eb5-2089-466c-abd0-339441e1a979",
   "metadata": {},
   "outputs": [],
   "source": [
    "df_fake_manual_testing = df_fake.tail(10)\n",
    "for i in range(2703,2693,-1):\n",
    "    df_fake.drop([i],axis = 0, inplace = True)\n",
    "\n",
    "    \n",
    "df_true_manual_testing = df_true.tail(10)\n",
    "for i in range(4019,4009,-1):\n",
    "    df_true.drop([i],axis = 0, inplace = True)"
   ]
  },
  {
   "cell_type": "code",
   "execution_count": 12,
   "id": "ff01a3d9-8fc3-4ef1-9a71-14a92cb61ee3",
   "metadata": {},
   "outputs": [
    {
     "data": {
      "text/plain": [
       "((2694, 3), (4010, 3))"
      ]
     },
     "execution_count": 12,
     "metadata": {},
     "output_type": "execute_result"
    }
   ],
   "source": [
    "df_fake.shape, df_true.shape"
   ]
  },
  {
   "cell_type": "code",
   "execution_count": 13,
   "id": "ebb8ec61-5e39-4250-aa73-7ca27fda31a1",
   "metadata": {},
   "outputs": [
    {
     "name": "stderr",
     "output_type": "stream",
     "text": [
      "/var/folders/xq/1tpd_wrd2sndfp6f965rpnm00000gn/T/ipykernel_1203/1523065411.py:1: SettingWithCopyWarning: \n",
      "A value is trying to be set on a copy of a slice from a DataFrame.\n",
      "Try using .loc[row_indexer,col_indexer] = value instead\n",
      "\n",
      "See the caveats in the documentation: https://pandas.pydata.org/pandas-docs/stable/user_guide/indexing.html#returning-a-view-versus-a-copy\n",
      "  df_fake_manual_testing['class'] = 0\n",
      "/var/folders/xq/1tpd_wrd2sndfp6f965rpnm00000gn/T/ipykernel_1203/1523065411.py:2: SettingWithCopyWarning: \n",
      "A value is trying to be set on a copy of a slice from a DataFrame.\n",
      "Try using .loc[row_indexer,col_indexer] = value instead\n",
      "\n",
      "See the caveats in the documentation: https://pandas.pydata.org/pandas-docs/stable/user_guide/indexing.html#returning-a-view-versus-a-copy\n",
      "  df_true_manual_testing['class'] = 1\n"
     ]
    }
   ],
   "source": [
    "df_fake_manual_testing['class'] = 0\n",
    "df_true_manual_testing['class'] = 1"
   ]
  },
  {
   "cell_type": "code",
   "execution_count": 14,
   "id": "1e18096b-e733-4976-a89d-5c86dc01ab1b",
   "metadata": {},
   "outputs": [
    {
     "data": {
      "text/html": [
       "<div>\n",
       "<style scoped>\n",
       "    .dataframe tbody tr th:only-of-type {\n",
       "        vertical-align: middle;\n",
       "    }\n",
       "\n",
       "    .dataframe tbody tr th {\n",
       "        vertical-align: top;\n",
       "    }\n",
       "\n",
       "    .dataframe thead th {\n",
       "        text-align: right;\n",
       "    }\n",
       "</style>\n",
       "<table border=\"1\" class=\"dataframe\">\n",
       "  <thead>\n",
       "    <tr style=\"text-align: right;\">\n",
       "      <th></th>\n",
       "      <th>Column1</th>\n",
       "      <th>short_description</th>\n",
       "      <th>class</th>\n",
       "    </tr>\n",
       "  </thead>\n",
       "  <tbody>\n",
       "    <tr>\n",
       "      <th>2694</th>\n",
       "      <td>2695</td>\n",
       "      <td>माचिस की तीली के पाउडर से नहीं होता बिच्छू के...</td>\n",
       "      <td>0</td>\n",
       "    </tr>\n",
       "    <tr>\n",
       "      <th>2695</th>\n",
       "      <td>2696</td>\n",
       "      <td>22 जनवरी को मॉरिशस सरकार नहीं दे रही सार्वजनि...</td>\n",
       "      <td>0</td>\n",
       "    </tr>\n",
       "    <tr>\n",
       "      <th>2696</th>\n",
       "      <td>2697</td>\n",
       "      <td>अयोध्या में पुष्पक विमान और लव-कुश के दिखने ...</td>\n",
       "      <td>0</td>\n",
       "    </tr>\n",
       "    <tr>\n",
       "      <th>2697</th>\n",
       "      <td>2698</td>\n",
       "      <td>पाकिस्तानी हैंडल्स ने किया भारतीय वायुसेना क...</td>\n",
       "      <td>0</td>\n",
       "    </tr>\n",
       "    <tr>\n",
       "      <th>2698</th>\n",
       "      <td>2699</td>\n",
       "      <td>खेसारी लाल का यह वीडियो करीब दो साल पुराना ह...</td>\n",
       "      <td>0</td>\n",
       "    </tr>\n",
       "    <tr>\n",
       "      <th>2699</th>\n",
       "      <td>2700</td>\n",
       "      <td>राजस्थान की महिला MLA की छवि खराब करने के लि...</td>\n",
       "      <td>0</td>\n",
       "    </tr>\n",
       "    <tr>\n",
       "      <th>2700</th>\n",
       "      <td>2701</td>\n",
       "      <td>मध्य प्रदेश की साल 2019 की घटना को हालिया बत...</td>\n",
       "      <td>0</td>\n",
       "    </tr>\n",
       "    <tr>\n",
       "      <th>2701</th>\n",
       "      <td>2702</td>\n",
       "      <td>खुर्जा में बोइंग का वेयरहाउस खुला, लेकिन वायर...</td>\n",
       "      <td>0</td>\n",
       "    </tr>\n",
       "    <tr>\n",
       "      <th>2702</th>\n",
       "      <td>2703</td>\n",
       "      <td>जलते हुए समुद्री जहाज का यह वीडियो 2020 का है...</td>\n",
       "      <td>0</td>\n",
       "    </tr>\n",
       "    <tr>\n",
       "      <th>2703</th>\n",
       "      <td>2704</td>\n",
       "      <td>ढांचे वाली जगह पर ही बन रहा मंदिर, तीन किलोमी...</td>\n",
       "      <td>0</td>\n",
       "    </tr>\n",
       "  </tbody>\n",
       "</table>\n",
       "</div>"
      ],
      "text/plain": [
       "      Column1                                  short_description  class\n",
       "2694     2695   माचिस की तीली के पाउडर से नहीं होता बिच्छू के...      0\n",
       "2695     2696   22 जनवरी को मॉरिशस सरकार नहीं दे रही सार्वजनि...      0\n",
       "2696     2697    अयोध्या में पुष्पक विमान और लव-कुश के दिखने ...      0\n",
       "2697     2698    पाकिस्तानी हैंडल्स ने किया भारतीय वायुसेना क...      0\n",
       "2698     2699    खेसारी लाल का यह वीडियो करीब दो साल पुराना ह...      0\n",
       "2699     2700    राजस्थान की महिला MLA की छवि खराब करने के लि...      0\n",
       "2700     2701    मध्य प्रदेश की साल 2019 की घटना को हालिया बत...      0\n",
       "2701     2702   खुर्जा में बोइंग का वेयरहाउस खुला, लेकिन वायर...      0\n",
       "2702     2703   जलते हुए समुद्री जहाज का यह वीडियो 2020 का है...      0\n",
       "2703     2704   ढांचे वाली जगह पर ही बन रहा मंदिर, तीन किलोमी...      0"
      ]
     },
     "execution_count": 14,
     "metadata": {},
     "output_type": "execute_result"
    }
   ],
   "source": [
    "df_fake_manual_testing.head(10)"
   ]
  },
  {
   "cell_type": "code",
   "execution_count": 15,
   "id": "c1886d8d-60f2-4549-b0d8-bef0a0290999",
   "metadata": {},
   "outputs": [
    {
     "data": {
      "text/html": [
       "<div>\n",
       "<style scoped>\n",
       "    .dataframe tbody tr th:only-of-type {\n",
       "        vertical-align: middle;\n",
       "    }\n",
       "\n",
       "    .dataframe tbody tr th {\n",
       "        vertical-align: top;\n",
       "    }\n",
       "\n",
       "    .dataframe thead th {\n",
       "        text-align: right;\n",
       "    }\n",
       "</style>\n",
       "<table border=\"1\" class=\"dataframe\">\n",
       "  <thead>\n",
       "    <tr style=\"text-align: right;\">\n",
       "      <th></th>\n",
       "      <th>Column1</th>\n",
       "      <th>short_description</th>\n",
       "      <th>class</th>\n",
       "    </tr>\n",
       "  </thead>\n",
       "  <tbody>\n",
       "    <tr>\n",
       "      <th>4010</th>\n",
       "      <td>4011</td>\n",
       "      <td>UP Police Bharti 2024: कॉन्स्टेबल भर्ती परीक्ष...</td>\n",
       "      <td>1</td>\n",
       "    </tr>\n",
       "    <tr>\n",
       "      <th>4011</th>\n",
       "      <td>4012</td>\n",
       "      <td>UP Roadways Bharti: यूपी रोडवेज में कंडक्टर के...</td>\n",
       "      <td>1</td>\n",
       "    </tr>\n",
       "    <tr>\n",
       "      <th>4012</th>\n",
       "      <td>4013</td>\n",
       "      <td>LIVE JEE Main Admit Card 2024: जेईई मेन एडमिट ...</td>\n",
       "      <td>1</td>\n",
       "    </tr>\n",
       "    <tr>\n",
       "      <th>4013</th>\n",
       "      <td>4014</td>\n",
       "      <td>मंहगे होंगे टाटा के सभी पैसेंजर व्हीकल, इनपुट ...</td>\n",
       "      <td>1</td>\n",
       "    </tr>\n",
       "    <tr>\n",
       "      <th>4014</th>\n",
       "      <td>4015</td>\n",
       "      <td>Dark Chocolate: पीरियड्स क्रैम्प से राहत दिला ...</td>\n",
       "      <td>1</td>\n",
       "    </tr>\n",
       "    <tr>\n",
       "      <th>4015</th>\n",
       "      <td>4016</td>\n",
       "      <td>प्राण प्रतिष्ठा की अयोध्या से लेकर कैलिफोर्निय...</td>\n",
       "      <td>1</td>\n",
       "    </tr>\n",
       "    <tr>\n",
       "      <th>4016</th>\n",
       "      <td>4017</td>\n",
       "      <td>छक्का जड़ने पर मिलेंगे 12 रन... जल्द आएगा नया ...</td>\n",
       "      <td>1</td>\n",
       "    </tr>\n",
       "    <tr>\n",
       "      <th>4017</th>\n",
       "      <td>4018</td>\n",
       "      <td>Power Consumption: चालू वित्त वर्ष की अप्रैल-द...</td>\n",
       "      <td>1</td>\n",
       "    </tr>\n",
       "    <tr>\n",
       "      <th>4018</th>\n",
       "      <td>4019</td>\n",
       "      <td>Entertainment Top 5 News 21 Jan: 'फाइटर' में क...</td>\n",
       "      <td>1</td>\n",
       "    </tr>\n",
       "    <tr>\n",
       "      <th>4019</th>\n",
       "      <td>4020</td>\n",
       "      <td>Ram Mandir के लिए 'सालार' के मेकर्स ने तैयार क...</td>\n",
       "      <td>1</td>\n",
       "    </tr>\n",
       "  </tbody>\n",
       "</table>\n",
       "</div>"
      ],
      "text/plain": [
       "      Column1                                  short_description  class\n",
       "4010     4011  UP Police Bharti 2024: कॉन्स्टेबल भर्ती परीक्ष...      1\n",
       "4011     4012  UP Roadways Bharti: यूपी रोडवेज में कंडक्टर के...      1\n",
       "4012     4013  LIVE JEE Main Admit Card 2024: जेईई मेन एडमिट ...      1\n",
       "4013     4014  मंहगे होंगे टाटा के सभी पैसेंजर व्हीकल, इनपुट ...      1\n",
       "4014     4015  Dark Chocolate: पीरियड्स क्रैम्प से राहत दिला ...      1\n",
       "4015     4016  प्राण प्रतिष्ठा की अयोध्या से लेकर कैलिफोर्निय...      1\n",
       "4016     4017  छक्का जड़ने पर मिलेंगे 12 रन... जल्द आएगा नया ...      1\n",
       "4017     4018  Power Consumption: चालू वित्त वर्ष की अप्रैल-द...      1\n",
       "4018     4019  Entertainment Top 5 News 21 Jan: 'फाइटर' में क...      1\n",
       "4019     4020  Ram Mandir के लिए 'सालार' के मेकर्स ने तैयार क...      1"
      ]
     },
     "execution_count": 15,
     "metadata": {},
     "output_type": "execute_result"
    }
   ],
   "source": [
    "df_true_manual_testing.head(10)"
   ]
  },
  {
   "cell_type": "markdown",
   "id": "8a15416b-8e2f-4c0c-9acc-93f234007a19",
   "metadata": {},
   "source": [
    "### Merging true and fake dataframes into a single data frame:"
   ]
  },
  {
   "cell_type": "code",
   "execution_count": 16,
   "id": "487ffdfc-1290-4f0f-9dd9-83324e407b71",
   "metadata": {},
   "outputs": [],
   "source": [
    "df_merge = pd.concat([df_fake, df_true], axis = 0)"
   ]
  },
  {
   "cell_type": "code",
   "execution_count": 17,
   "id": "88235ea5-f066-4fae-8d6a-5db1e9447be0",
   "metadata": {},
   "outputs": [
    {
     "data": {
      "text/plain": [
       "(   Column1                                  short_description  class\n",
       " 0        1   गडकरी ने नहीं दिया है पीएम मोदी और राम मंदिर ...      0\n",
       " 1        2   राम मंदिर वहीं बना है जहां रामलला विराजमान थे...      0\n",
       " 2        3   यूपी में बोर्ड की परीक्षा नहीं हुई है रद्द, य...      0\n",
       " 3        4   नेपाल से अयोध्या के जुलूस का नहीं, ये ग्रेटर ...      0\n",
       " 4        5   एमपी का सीएम बनने के बाद मोहन यादव ने दी जनता...      0,\n",
       "       Column1                                  short_description  class\n",
       " 4005     4006  फ्लाइट में लगे 'जय श्री राम' के नारे, फ्लैग लि...      1\n",
       " 4006     4007  Russia-Ukraine War: रूस के कब्जे वाले यूक्रेन ...      1\n",
       " 4007     4008  Ramlala Pran Pratishtha: प्राण-प्रतिष्ठा के दि...      1\n",
       " 4008     4009  Vladimir Putin North Korea Visit: उत्तर कोरिया...      1\n",
       " 4009     4010  School Close on 22 January: राम मंदिर उद्घाटन ...      1)"
      ]
     },
     "execution_count": 17,
     "metadata": {},
     "output_type": "execute_result"
    }
   ],
   "source": [
    "df_merge.head(5), df_merge.tail(5)"
   ]
  },
  {
   "cell_type": "markdown",
   "id": "3e9ce9c4-ff2e-47f3-b039-f58b675bc040",
   "metadata": {},
   "source": [
    "## 3. Data Cleaning: "
   ]
  },
  {
   "cell_type": "code",
   "execution_count": 18,
   "id": "0bfa84a6-16ee-4472-beee-1254916a424c",
   "metadata": {},
   "outputs": [
    {
     "name": "stdout",
     "output_type": "stream",
     "text": [
      "<class 'pandas.core.frame.DataFrame'>\n",
      "Index: 6704 entries, 0 to 4009\n",
      "Data columns (total 3 columns):\n",
      " #   Column             Non-Null Count  Dtype \n",
      "---  ------             --------------  ----- \n",
      " 0   Column1            6704 non-null   int64 \n",
      " 1   short_description  6704 non-null   object\n",
      " 2   class              6704 non-null   int64 \n",
      "dtypes: int64(2), object(1)\n",
      "memory usage: 209.5+ KB\n"
     ]
    }
   ],
   "source": [
    "df_merge.info()"
   ]
  },
  {
   "cell_type": "code",
   "execution_count": 19,
   "id": "d3353b36-c55c-4e9c-9360-ed2e15665e68",
   "metadata": {},
   "outputs": [],
   "source": [
    "df=df_merge.drop(['Column1'], axis = 1)"
   ]
  },
  {
   "cell_type": "markdown",
   "id": "f473f3e2-f3f9-4590-902b-ee666ce3315a",
   "metadata": {},
   "source": [
    "### Count missing values:"
   ]
  },
  {
   "cell_type": "code",
   "execution_count": 20,
   "id": "67c61201-e820-4782-a41f-b48d20d1ea19",
   "metadata": {},
   "outputs": [
    {
     "data": {
      "text/plain": [
       "short_description    0\n",
       "class                0\n",
       "dtype: int64"
      ]
     },
     "execution_count": 20,
     "metadata": {},
     "output_type": "execute_result"
    }
   ],
   "source": [
    "df.isnull().sum()"
   ]
  },
  {
   "cell_type": "markdown",
   "id": "a42f9acc-916e-4bb1-8316-06a4c1dbdb99",
   "metadata": {},
   "source": [
    "### Randomly shuffling the dataframe:"
   ]
  },
  {
   "cell_type": "code",
   "execution_count": 21,
   "id": "1b75e92e-4c2c-467e-8463-95d6f837920a",
   "metadata": {},
   "outputs": [],
   "source": [
    "df = df.sample(frac = 1)"
   ]
  },
  {
   "cell_type": "code",
   "execution_count": 22,
   "id": "75a4a427-5bb0-4a9e-b2e1-24ba4e39236f",
   "metadata": {},
   "outputs": [
    {
     "data": {
      "text/html": [
       "<div>\n",
       "<style scoped>\n",
       "    .dataframe tbody tr th:only-of-type {\n",
       "        vertical-align: middle;\n",
       "    }\n",
       "\n",
       "    .dataframe tbody tr th {\n",
       "        vertical-align: top;\n",
       "    }\n",
       "\n",
       "    .dataframe thead th {\n",
       "        text-align: right;\n",
       "    }\n",
       "</style>\n",
       "<table border=\"1\" class=\"dataframe\">\n",
       "  <thead>\n",
       "    <tr style=\"text-align: right;\">\n",
       "      <th></th>\n",
       "      <th>short_description</th>\n",
       "      <th>class</th>\n",
       "    </tr>\n",
       "  </thead>\n",
       "  <tbody>\n",
       "    <tr>\n",
       "      <th>3706</th>\n",
       "      <td>Russia-Ukraine War: रूस के कब्जे वाले यूक्रेन ...</td>\n",
       "      <td>1</td>\n",
       "    </tr>\n",
       "    <tr>\n",
       "      <th>3183</th>\n",
       "      <td>बजट में बुनियादी ढांचा क्षेत्र के लिए पूंजीगत ...</td>\n",
       "      <td>1</td>\n",
       "    </tr>\n",
       "    <tr>\n",
       "      <th>543</th>\n",
       "      <td>बेरोजगारी के नाम पर आतंकी गतिविधियों को प्रोत्...</td>\n",
       "      <td>1</td>\n",
       "    </tr>\n",
       "    <tr>\n",
       "      <th>3370</th>\n",
       "      <td>UP Police Bharti 2024: कॉन्स्टेबल भर्ती परीक्ष...</td>\n",
       "      <td>1</td>\n",
       "    </tr>\n",
       "    <tr>\n",
       "      <th>2629</th>\n",
       "      <td>School Close on 22 January: राम मंदिर उद्घाटन ...</td>\n",
       "      <td>1</td>\n",
       "    </tr>\n",
       "  </tbody>\n",
       "</table>\n",
       "</div>"
      ],
      "text/plain": [
       "                                      short_description  class\n",
       "3706  Russia-Ukraine War: रूस के कब्जे वाले यूक्रेन ...      1\n",
       "3183  बजट में बुनियादी ढांचा क्षेत्र के लिए पूंजीगत ...      1\n",
       "543   बेरोजगारी के नाम पर आतंकी गतिविधियों को प्रोत्...      1\n",
       "3370  UP Police Bharti 2024: कॉन्स्टेबल भर्ती परीक्ष...      1\n",
       "2629  School Close on 22 January: राम मंदिर उद्घाटन ...      1"
      ]
     },
     "execution_count": 22,
     "metadata": {},
     "output_type": "execute_result"
    }
   ],
   "source": [
    "df.head()"
   ]
  },
  {
   "cell_type": "code",
   "execution_count": 23,
   "id": "f5c6cd1b-e251-4bfd-b32a-f7a4efaa6db1",
   "metadata": {},
   "outputs": [],
   "source": [
    "df.reset_index(inplace = True)\n",
    "df.drop(['index'], axis=1, inplace=True)"
   ]
  },
  {
   "cell_type": "code",
   "execution_count": 24,
   "id": "14ac54d8-d6a9-4581-960e-182c566d6a76",
   "metadata": {},
   "outputs": [
    {
     "data": {
      "text/html": [
       "<div>\n",
       "<style scoped>\n",
       "    .dataframe tbody tr th:only-of-type {\n",
       "        vertical-align: middle;\n",
       "    }\n",
       "\n",
       "    .dataframe tbody tr th {\n",
       "        vertical-align: top;\n",
       "    }\n",
       "\n",
       "    .dataframe thead th {\n",
       "        text-align: right;\n",
       "    }\n",
       "</style>\n",
       "<table border=\"1\" class=\"dataframe\">\n",
       "  <thead>\n",
       "    <tr style=\"text-align: right;\">\n",
       "      <th></th>\n",
       "      <th>short_description</th>\n",
       "      <th>class</th>\n",
       "    </tr>\n",
       "  </thead>\n",
       "  <tbody>\n",
       "    <tr>\n",
       "      <th>0</th>\n",
       "      <td>Russia-Ukraine War: रूस के कब्जे वाले यूक्रेन ...</td>\n",
       "      <td>1</td>\n",
       "    </tr>\n",
       "    <tr>\n",
       "      <th>1</th>\n",
       "      <td>बजट में बुनियादी ढांचा क्षेत्र के लिए पूंजीगत ...</td>\n",
       "      <td>1</td>\n",
       "    </tr>\n",
       "    <tr>\n",
       "      <th>2</th>\n",
       "      <td>बेरोजगारी के नाम पर आतंकी गतिविधियों को प्रोत्...</td>\n",
       "      <td>1</td>\n",
       "    </tr>\n",
       "    <tr>\n",
       "      <th>3</th>\n",
       "      <td>UP Police Bharti 2024: कॉन्स्टेबल भर्ती परीक्ष...</td>\n",
       "      <td>1</td>\n",
       "    </tr>\n",
       "    <tr>\n",
       "      <th>4</th>\n",
       "      <td>School Close on 22 January: राम मंदिर उद्घाटन ...</td>\n",
       "      <td>1</td>\n",
       "    </tr>\n",
       "    <tr>\n",
       "      <th>...</th>\n",
       "      <td>...</td>\n",
       "      <td>...</td>\n",
       "    </tr>\n",
       "    <tr>\n",
       "      <th>6699</th>\n",
       "      <td>पाकिस्तान में ईरानी एयर स्ट्राइक की रिपोर्टिं...</td>\n",
       "      <td>0</td>\n",
       "    </tr>\n",
       "    <tr>\n",
       "      <th>6700</th>\n",
       "      <td>Entertainment Top 5 News 21 Jan: 'फाइटर' में क...</td>\n",
       "      <td>1</td>\n",
       "    </tr>\n",
       "    <tr>\n",
       "      <th>6701</th>\n",
       "      <td>खिलाने के बाद बच्चे की तरह मुंह पोंछती थी मां,...</td>\n",
       "      <td>1</td>\n",
       "    </tr>\n",
       "    <tr>\n",
       "      <th>6702</th>\n",
       "      <td>तेलंगाना महालक्ष्मी स्कीम शुरू, महिलाओं को फ्र...</td>\n",
       "      <td>1</td>\n",
       "    </tr>\n",
       "    <tr>\n",
       "      <th>6703</th>\n",
       "      <td>मणिपुर में भीड़ ने की मुख्यमंत्री एन बीरेन सिं...</td>\n",
       "      <td>1</td>\n",
       "    </tr>\n",
       "  </tbody>\n",
       "</table>\n",
       "<p>6704 rows × 2 columns</p>\n",
       "</div>"
      ],
      "text/plain": [
       "                                      short_description  class\n",
       "0     Russia-Ukraine War: रूस के कब्जे वाले यूक्रेन ...      1\n",
       "1     बजट में बुनियादी ढांचा क्षेत्र के लिए पूंजीगत ...      1\n",
       "2     बेरोजगारी के नाम पर आतंकी गतिविधियों को प्रोत्...      1\n",
       "3     UP Police Bharti 2024: कॉन्स्टेबल भर्ती परीक्ष...      1\n",
       "4     School Close on 22 January: राम मंदिर उद्घाटन ...      1\n",
       "...                                                 ...    ...\n",
       "6699   पाकिस्तान में ईरानी एयर स्ट्राइक की रिपोर्टिं...      0\n",
       "6700  Entertainment Top 5 News 21 Jan: 'फाइटर' में क...      1\n",
       "6701  खिलाने के बाद बच्चे की तरह मुंह पोंछती थी मां,...      1\n",
       "6702  तेलंगाना महालक्ष्मी स्कीम शुरू, महिलाओं को फ्र...      1\n",
       "6703  मणिपुर में भीड़ ने की मुख्यमंत्री एन बीरेन सिं...      1\n",
       "\n",
       "[6704 rows x 2 columns]"
      ]
     },
     "execution_count": 24,
     "metadata": {},
     "output_type": "execute_result"
    }
   ],
   "source": [
    "df"
   ]
  },
  {
   "cell_type": "markdown",
   "id": "6d461c8b-834d-4ec6-8444-aa932a38cc95",
   "metadata": {},
   "source": [
    "## 4. Preprocessing: "
   ]
  },
  {
   "cell_type": "code",
   "execution_count": 25,
   "id": "e05269c2-2d5e-4928-b12d-18ba759f60da",
   "metadata": {},
   "outputs": [],
   "source": [
    "import re\n",
    "import string"
   ]
  },
  {
   "cell_type": "markdown",
   "id": "26d2389d-ee27-483c-9c57-33086ad7a3e5",
   "metadata": {},
   "source": [
    "### remove punctuation:"
   ]
  },
  {
   "cell_type": "code",
   "execution_count": 26,
   "id": "940e475c-a2b1-4097-8faa-263b75a2d11a",
   "metadata": {},
   "outputs": [],
   "source": [
    "def remove_punctuation(text):\n",
    "    return re.sub(f\"[{string.punctuation}]\", \"\", text)"
   ]
  },
  {
   "cell_type": "code",
   "execution_count": 27,
   "id": "361c7f05-c514-48e5-8bdc-73cb5af52cda",
   "metadata": {},
   "outputs": [
    {
     "data": {
      "text/html": [
       "<div>\n",
       "<style scoped>\n",
       "    .dataframe tbody tr th:only-of-type {\n",
       "        vertical-align: middle;\n",
       "    }\n",
       "\n",
       "    .dataframe tbody tr th {\n",
       "        vertical-align: top;\n",
       "    }\n",
       "\n",
       "    .dataframe thead th {\n",
       "        text-align: right;\n",
       "    }\n",
       "</style>\n",
       "<table border=\"1\" class=\"dataframe\">\n",
       "  <thead>\n",
       "    <tr style=\"text-align: right;\">\n",
       "      <th></th>\n",
       "      <th>short_description</th>\n",
       "      <th>class</th>\n",
       "      <th>cleaned_text</th>\n",
       "    </tr>\n",
       "  </thead>\n",
       "  <tbody>\n",
       "    <tr>\n",
       "      <th>0</th>\n",
       "      <td>Russia-Ukraine War: रूस के कब्जे वाले यूक्रेन ...</td>\n",
       "      <td>1</td>\n",
       "      <td>RussiaUkraine War रूस के कब्जे वाले यूक्रेन मे...</td>\n",
       "    </tr>\n",
       "    <tr>\n",
       "      <th>1</th>\n",
       "      <td>बजट में बुनियादी ढांचा क्षेत्र के लिए पूंजीगत ...</td>\n",
       "      <td>1</td>\n",
       "      <td>बजट में बुनियादी ढांचा क्षेत्र के लिए पूंजीगत ...</td>\n",
       "    </tr>\n",
       "    <tr>\n",
       "      <th>2</th>\n",
       "      <td>बेरोजगारी के नाम पर आतंकी गतिविधियों को प्रोत्...</td>\n",
       "      <td>1</td>\n",
       "      <td>बेरोजगारी के नाम पर आतंकी गतिविधियों को प्रोत्...</td>\n",
       "    </tr>\n",
       "    <tr>\n",
       "      <th>3</th>\n",
       "      <td>UP Police Bharti 2024: कॉन्स्टेबल भर्ती परीक्ष...</td>\n",
       "      <td>1</td>\n",
       "      <td>UP Police Bharti 2024 कॉन्स्टेबल भर्ती परीक्षा...</td>\n",
       "    </tr>\n",
       "    <tr>\n",
       "      <th>4</th>\n",
       "      <td>School Close on 22 January: राम मंदिर उद्घाटन ...</td>\n",
       "      <td>1</td>\n",
       "      <td>School Close on 22 January राम मंदिर उद्घाटन प...</td>\n",
       "    </tr>\n",
       "  </tbody>\n",
       "</table>\n",
       "</div>"
      ],
      "text/plain": [
       "                                   short_description  class  \\\n",
       "0  Russia-Ukraine War: रूस के कब्जे वाले यूक्रेन ...      1   \n",
       "1  बजट में बुनियादी ढांचा क्षेत्र के लिए पूंजीगत ...      1   \n",
       "2  बेरोजगारी के नाम पर आतंकी गतिविधियों को प्रोत्...      1   \n",
       "3  UP Police Bharti 2024: कॉन्स्टेबल भर्ती परीक्ष...      1   \n",
       "4  School Close on 22 January: राम मंदिर उद्घाटन ...      1   \n",
       "\n",
       "                                        cleaned_text  \n",
       "0  RussiaUkraine War रूस के कब्जे वाले यूक्रेन मे...  \n",
       "1  बजट में बुनियादी ढांचा क्षेत्र के लिए पूंजीगत ...  \n",
       "2  बेरोजगारी के नाम पर आतंकी गतिविधियों को प्रोत्...  \n",
       "3  UP Police Bharti 2024 कॉन्स्टेबल भर्ती परीक्षा...  \n",
       "4  School Close on 22 January राम मंदिर उद्घाटन प...  "
      ]
     },
     "execution_count": 27,
     "metadata": {},
     "output_type": "execute_result"
    }
   ],
   "source": [
    "df['cleaned_text'] = df['short_description'].apply(remove_punctuation)\n",
    "df.head()"
   ]
  },
  {
   "cell_type": "markdown",
   "id": "1b760e2a-a45a-4053-8b63-e46a66fb2203",
   "metadata": {},
   "source": [
    "### stemming:"
   ]
  },
  {
   "cell_type": "code",
   "execution_count": 28,
   "id": "15e14e99-9010-4709-8826-3b868e3d5f46",
   "metadata": {},
   "outputs": [],
   "source": [
    "suffixes = {\n",
    "    1: [\"ो\", \"े\", \"ू\", \"ु\", \"ी\", \"ि\", \"ा\"],\n",
    "    2: [\"कर\", \"ाओ\", \"िए\", \"ाई\", \"ाए\", \"ने\", \"नी\", \"ना\", \"ते\", \"ीं\", \"ती\", \"ता\", \"ाँ\", \"ां\", \"ों\", \"ें\"],\n",
    "    3: [\"ाकर\", \"ाइए\", \"ाईं\", \"ाया\", \"ेगी\", \"ेगा\", \"ोगी\", \"ोगे\", \"ाने\", \"ाना\", \"ाते\", \"ाती\", \"ाता\", \"तीं\", \"ाओं\", \"ाएं\", \"ुओं\", \"ुएं\", \"ुआं\"],\n",
    "    4: [\"ाएगी\", \"ाएगा\", \"ाओगी\", \"ाओगे\", \"एंगी\", \"ेंगी\", \"एंगे\", \"ेंगे\", \"ूंगी\", \"ूंगा\", \"ातीं\", \"नाओं\", \"नाएं\", \"ताओं\", \"ताएं\", \"ियाँ\", \"ियों\", \"ियां\"],\n",
    "    5: [\"ाएंगी\", \"ाएंगे\", \"ाऊंगी\", \"ाऊंगा\", \"ाइयाँ\", \"ाइयों\", \"ाइयां\"],\n",
    "}\n",
    "\n",
    "def custom_hindi_stemmer(word):\n",
    "    for L in range(5, 0, -1):  # Start with the longest suffixes\n",
    "        if L in suffixes:\n",
    "            for suffix in suffixes[L]:\n",
    "                if word.endswith(suffix):\n",
    "                    return word[:-L]\n",
    "    return word"
   ]
  },
  {
   "cell_type": "code",
   "execution_count": 29,
   "id": "ad592494-f1fa-4a71-8b51-6e26360e2700",
   "metadata": {},
   "outputs": [],
   "source": [
    "def stem_text(text):\n",
    "    tokens = text.split()\n",
    "    stemmed_tokens = [custom_hindi_stemmer(token) for token in tokens]\n",
    "    return ' '.join(stemmed_tokens)"
   ]
  },
  {
   "cell_type": "code",
   "execution_count": 30,
   "id": "cd5a2613-378f-4015-87d3-ec688441e730",
   "metadata": {},
   "outputs": [
    {
     "data": {
      "text/html": [
       "<div>\n",
       "<style scoped>\n",
       "    .dataframe tbody tr th:only-of-type {\n",
       "        vertical-align: middle;\n",
       "    }\n",
       "\n",
       "    .dataframe tbody tr th {\n",
       "        vertical-align: top;\n",
       "    }\n",
       "\n",
       "    .dataframe thead th {\n",
       "        text-align: right;\n",
       "    }\n",
       "</style>\n",
       "<table border=\"1\" class=\"dataframe\">\n",
       "  <thead>\n",
       "    <tr style=\"text-align: right;\">\n",
       "      <th></th>\n",
       "      <th>short_description</th>\n",
       "      <th>class</th>\n",
       "      <th>cleaned_text</th>\n",
       "      <th>stemmed_text</th>\n",
       "    </tr>\n",
       "  </thead>\n",
       "  <tbody>\n",
       "    <tr>\n",
       "      <th>0</th>\n",
       "      <td>Russia-Ukraine War: रूस के कब्जे वाले यूक्रेन ...</td>\n",
       "      <td>1</td>\n",
       "      <td>RussiaUkraine War रूस के कब्जे वाले यूक्रेन मे...</td>\n",
       "      <td>RussiaUkraine War रूस क कब्ज वाल यूक्रेन म भीष...</td>\n",
       "    </tr>\n",
       "    <tr>\n",
       "      <th>1</th>\n",
       "      <td>बजट में बुनियादी ढांचा क्षेत्र के लिए पूंजीगत ...</td>\n",
       "      <td>1</td>\n",
       "      <td>बजट में बुनियादी ढांचा क्षेत्र के लिए पूंजीगत ...</td>\n",
       "      <td>बजट म बुनियाद ढांच क्षेत्र क ल पूंजीगत व्यय बढ...</td>\n",
       "    </tr>\n",
       "    <tr>\n",
       "      <th>2</th>\n",
       "      <td>बेरोजगारी के नाम पर आतंकी गतिविधियों को प्रोत्...</td>\n",
       "      <td>1</td>\n",
       "      <td>बेरोजगारी के नाम पर आतंकी गतिविधियों को प्रोत्...</td>\n",
       "      <td>बेरोजगार क नाम पर आतंक गतिविध क प्रोत्साहित  र...</td>\n",
       "    </tr>\n",
       "    <tr>\n",
       "      <th>3</th>\n",
       "      <td>UP Police Bharti 2024: कॉन्स्टेबल भर्ती परीक्ष...</td>\n",
       "      <td>1</td>\n",
       "      <td>UP Police Bharti 2024 कॉन्स्टेबल भर्ती परीक्षा...</td>\n",
       "      <td>UP Police Bharti 2024 कॉन्स्टेबल भर् परीक्ष ति...</td>\n",
       "    </tr>\n",
       "    <tr>\n",
       "      <th>4</th>\n",
       "      <td>School Close on 22 January: राम मंदिर उद्घाटन ...</td>\n",
       "      <td>1</td>\n",
       "      <td>School Close on 22 January राम मंदिर उद्घाटन प...</td>\n",
       "      <td>School Close on 22 January राम मंदिर उद्घाटन प...</td>\n",
       "    </tr>\n",
       "  </tbody>\n",
       "</table>\n",
       "</div>"
      ],
      "text/plain": [
       "                                   short_description  class  \\\n",
       "0  Russia-Ukraine War: रूस के कब्जे वाले यूक्रेन ...      1   \n",
       "1  बजट में बुनियादी ढांचा क्षेत्र के लिए पूंजीगत ...      1   \n",
       "2  बेरोजगारी के नाम पर आतंकी गतिविधियों को प्रोत्...      1   \n",
       "3  UP Police Bharti 2024: कॉन्स्टेबल भर्ती परीक्ष...      1   \n",
       "4  School Close on 22 January: राम मंदिर उद्घाटन ...      1   \n",
       "\n",
       "                                        cleaned_text  \\\n",
       "0  RussiaUkraine War रूस के कब्जे वाले यूक्रेन मे...   \n",
       "1  बजट में बुनियादी ढांचा क्षेत्र के लिए पूंजीगत ...   \n",
       "2  बेरोजगारी के नाम पर आतंकी गतिविधियों को प्रोत्...   \n",
       "3  UP Police Bharti 2024 कॉन्स्टेबल भर्ती परीक्षा...   \n",
       "4  School Close on 22 January राम मंदिर उद्घाटन प...   \n",
       "\n",
       "                                        stemmed_text  \n",
       "0  RussiaUkraine War रूस क कब्ज वाल यूक्रेन म भीष...  \n",
       "1  बजट म बुनियाद ढांच क्षेत्र क ल पूंजीगत व्यय बढ...  \n",
       "2  बेरोजगार क नाम पर आतंक गतिविध क प्रोत्साहित  र...  \n",
       "3  UP Police Bharti 2024 कॉन्स्टेबल भर् परीक्ष ति...  \n",
       "4  School Close on 22 January राम मंदिर उद्घाटन प...  "
      ]
     },
     "execution_count": 30,
     "metadata": {},
     "output_type": "execute_result"
    }
   ],
   "source": [
    "df['stemmed_text'] = df['cleaned_text'].apply(stem_text)\n",
    "df.head()"
   ]
  },
  {
   "cell_type": "code",
   "execution_count": 31,
   "id": "462d7a7d-194b-4953-82a2-26bbe430e2ef",
   "metadata": {},
   "outputs": [],
   "source": [
    "custom_stopwords = ['मैं', 'मुझको', 'मेरा', 'अपने आप को', 'हमने', 'हमारा', 'अपना', 'हम', 'आप', 'आपका', 'तुम्हारा', 'अपने आप', \n",
    "                    'स्वयं', 'वह', 'इसे', 'उसके', 'खुद को', 'कि वह', 'उसकी', 'उसका', 'खुद ही', 'यह', 'इसके', 'उन्होने', \n",
    "                    'अपने', 'क्या', 'जो', 'किसे', 'किसको', 'कि', 'ये', 'हूँ', 'होता है', 'रहे', 'थी', 'थे', 'होना', 'गया', \n",
    "                    'किया जा रहा है', 'किया है', 'है', 'पडा', 'होने', 'करना', 'करता है', 'किया', 'रही', 'एक', 'लेकिन', \n",
    "                    'अगर', 'या', 'क्यूंकि', 'जैसा', 'जब तक', 'जबकि', 'की', 'पर', 'द्वारा', 'के लिए', 'साथ', 'के बारे में', \n",
    "                    'खिलाफ', 'बीच', 'में', 'के माध्यम से', 'दौरान', 'से पहले', 'के बाद', 'ऊपर', 'नीचे', 'को', 'से', 'तक', \n",
    "                    'से नीचे', 'करने में', 'निकल', 'बंद', 'से अधिक', 'तहत', 'दुबारा', 'आगे', 'फिर', 'एक बार', 'यहाँ', 'वहाँ', \n",
    "                    'कब', 'कहाँ', 'क्यों', 'कैसे', 'सारे', 'किसी', 'दोनो', 'प्रत्येक', 'ज्यादा', 'अधिकांश', 'अन्य', 'में कुछ', \n",
    "                    'ऐसा', 'में कोई', 'मात्र', 'खुद', 'समान', 'इसलिए', 'बहुत', 'सकता', 'जायेंगे', 'जरा', 'चाहिए', 'अभी', 'और', \n",
    "                    'कर दिया', 'रखें', 'का', 'हैं', 'इस', 'होता', 'करने', 'ने', 'बनी', 'तो', 'ही', 'हो', 'इसका', 'था', 'हुआ', \n",
    "                    'वाले', 'बाद', 'लिए', 'सकते', 'इसमें', 'दो', 'वे', 'करते', 'कहा', 'वर्ग', 'कई', 'करें', 'होती', 'अपनी', \n",
    "                    'उनके', 'यदि', 'हुई', 'जा', 'कहते', 'जब', 'होते', 'कोई', 'हुए', 'व', 'जैसे', 'सभी', 'करता', 'उनकी', \n",
    "                    'तरह', 'उस', 'आदि', 'इसकी', 'उनका', 'इसी', 'पे', 'तथा', 'भी', 'परंतु', 'इन', 'कम', 'दूर', 'पूरे', 'गये', \n",
    "                    'तुम', 'मै', 'यहां', 'हुये', 'कभी', 'अथवा', 'गयी', 'प्रति', 'जाता', 'इन्हें', 'गई', 'अब', 'जिसमें', 'लिया', \n",
    "                    'बड़ा', 'जाती', 'तब', 'उसे', 'जाते', 'लेकर', 'बड़े', 'दूसरे', 'जाने', 'बाहर', 'स्थान', 'उन्हें', 'गए', \n",
    "                    'ऐसे', 'जिससे', 'समय', 'दोनों', 'किए', 'रहती', 'इनके', 'इनका', 'इनकी', 'सकती', 'आज', 'कल', 'जिन्हें', \n",
    "                    'जिन्हों', 'तिन्हें', 'तिन्हों', 'किन्हों', 'किन्हें', 'इत्यादि', 'इन्हों', 'उन्हों', 'बिलकुल', 'निहायत', \n",
    "                    'इन्हीं', 'उन्हीं', 'जितना', 'दूसरा', 'कितना', 'साबुत', 'वग़ैरह', 'कौनसा', 'लिये', 'दिया', 'जिसे', \n",
    "                    'तिसे', 'काफ़ी', 'पहले', 'बाला', 'मानो', 'अंदर', 'भीतर', 'पूरा', 'सारा', 'उनको', 'वहीं', 'जहाँ', \n",
    "                    'जीधर', '\\ufeffके', 'एवं', 'कुछ', 'कुल', 'रहा', 'जिस', 'जिन', 'तिस', 'तिन', 'कौन', 'किस', 'संग', \n",
    "                    'यही', 'बही', 'उसी', 'मगर', 'कर', 'मे', 'एस', 'उन', 'सो', 'अत']\n"
   ]
  },
  {
   "cell_type": "code",
   "execution_count": 32,
   "id": "1acab1b3-f6de-4a3f-9f37-2b06afa7fc58",
   "metadata": {},
   "outputs": [],
   "source": [
    "def remove_stopwords(text):\n",
    "    tokens = text.split()\n",
    "    filtered_tokens = [word for word in tokens if word not in custom_stopwords]\n",
    "    return ' '.join(filtered_tokens)"
   ]
  },
  {
   "cell_type": "code",
   "execution_count": 33,
   "id": "47a6eae9-608a-4ded-8345-8b3fae8f1fae",
   "metadata": {},
   "outputs": [
    {
     "data": {
      "text/html": [
       "<div>\n",
       "<style scoped>\n",
       "    .dataframe tbody tr th:only-of-type {\n",
       "        vertical-align: middle;\n",
       "    }\n",
       "\n",
       "    .dataframe tbody tr th {\n",
       "        vertical-align: top;\n",
       "    }\n",
       "\n",
       "    .dataframe thead th {\n",
       "        text-align: right;\n",
       "    }\n",
       "</style>\n",
       "<table border=\"1\" class=\"dataframe\">\n",
       "  <thead>\n",
       "    <tr style=\"text-align: right;\">\n",
       "      <th></th>\n",
       "      <th>short_description</th>\n",
       "      <th>class</th>\n",
       "      <th>cleaned_text</th>\n",
       "      <th>stemmed_text</th>\n",
       "      <th>final_text</th>\n",
       "    </tr>\n",
       "  </thead>\n",
       "  <tbody>\n",
       "    <tr>\n",
       "      <th>0</th>\n",
       "      <td>Russia-Ukraine War: रूस के कब्जे वाले यूक्रेन ...</td>\n",
       "      <td>1</td>\n",
       "      <td>RussiaUkraine War रूस के कब्जे वाले यूक्रेन मे...</td>\n",
       "      <td>RussiaUkraine War रूस क कब्ज वाल यूक्रेन म भीष...</td>\n",
       "      <td>RussiaUkraine War रूस क कब्ज वाल यूक्रेन म भीष...</td>\n",
       "    </tr>\n",
       "    <tr>\n",
       "      <th>1</th>\n",
       "      <td>बजट में बुनियादी ढांचा क्षेत्र के लिए पूंजीगत ...</td>\n",
       "      <td>1</td>\n",
       "      <td>बजट में बुनियादी ढांचा क्षेत्र के लिए पूंजीगत ...</td>\n",
       "      <td>बजट म बुनियाद ढांच क्षेत्र क ल पूंजीगत व्यय बढ...</td>\n",
       "      <td>बजट म बुनियाद ढांच क्षेत्र क ल पूंजीगत व्यय बढ...</td>\n",
       "    </tr>\n",
       "    <tr>\n",
       "      <th>2</th>\n",
       "      <td>बेरोजगारी के नाम पर आतंकी गतिविधियों को प्रोत्...</td>\n",
       "      <td>1</td>\n",
       "      <td>बेरोजगारी के नाम पर आतंकी गतिविधियों को प्रोत्...</td>\n",
       "      <td>बेरोजगार क नाम पर आतंक गतिविध क प्रोत्साहित  र...</td>\n",
       "      <td>बेरोजगार क नाम आतंक गतिविध क प्रोत्साहित रह का...</td>\n",
       "    </tr>\n",
       "    <tr>\n",
       "      <th>3</th>\n",
       "      <td>UP Police Bharti 2024: कॉन्स्टेबल भर्ती परीक्ष...</td>\n",
       "      <td>1</td>\n",
       "      <td>UP Police Bharti 2024 कॉन्स्टेबल भर्ती परीक्षा...</td>\n",
       "      <td>UP Police Bharti 2024 कॉन्स्टेबल भर् परीक्ष ति...</td>\n",
       "      <td>UP Police Bharti 2024 कॉन्स्टेबल भर् परीक्ष ति...</td>\n",
       "    </tr>\n",
       "    <tr>\n",
       "      <th>4</th>\n",
       "      <td>School Close on 22 January: राम मंदिर उद्घाटन ...</td>\n",
       "      <td>1</td>\n",
       "      <td>School Close on 22 January राम मंदिर उद्घाटन प...</td>\n",
       "      <td>School Close on 22 January राम मंदिर उद्घाटन प...</td>\n",
       "      <td>School Close on 22 January राम मंदिर उद्घाटन य...</td>\n",
       "    </tr>\n",
       "  </tbody>\n",
       "</table>\n",
       "</div>"
      ],
      "text/plain": [
       "                                   short_description  class  \\\n",
       "0  Russia-Ukraine War: रूस के कब्जे वाले यूक्रेन ...      1   \n",
       "1  बजट में बुनियादी ढांचा क्षेत्र के लिए पूंजीगत ...      1   \n",
       "2  बेरोजगारी के नाम पर आतंकी गतिविधियों को प्रोत्...      1   \n",
       "3  UP Police Bharti 2024: कॉन्स्टेबल भर्ती परीक्ष...      1   \n",
       "4  School Close on 22 January: राम मंदिर उद्घाटन ...      1   \n",
       "\n",
       "                                        cleaned_text  \\\n",
       "0  RussiaUkraine War रूस के कब्जे वाले यूक्रेन मे...   \n",
       "1  बजट में बुनियादी ढांचा क्षेत्र के लिए पूंजीगत ...   \n",
       "2  बेरोजगारी के नाम पर आतंकी गतिविधियों को प्रोत्...   \n",
       "3  UP Police Bharti 2024 कॉन्स्टेबल भर्ती परीक्षा...   \n",
       "4  School Close on 22 January राम मंदिर उद्घाटन प...   \n",
       "\n",
       "                                        stemmed_text  \\\n",
       "0  RussiaUkraine War रूस क कब्ज वाल यूक्रेन म भीष...   \n",
       "1  बजट म बुनियाद ढांच क्षेत्र क ल पूंजीगत व्यय बढ...   \n",
       "2  बेरोजगार क नाम पर आतंक गतिविध क प्रोत्साहित  र...   \n",
       "3  UP Police Bharti 2024 कॉन्स्टेबल भर् परीक्ष ति...   \n",
       "4  School Close on 22 January राम मंदिर उद्घाटन प...   \n",
       "\n",
       "                                          final_text  \n",
       "0  RussiaUkraine War रूस क कब्ज वाल यूक्रेन म भीष...  \n",
       "1  बजट म बुनियाद ढांच क्षेत्र क ल पूंजीगत व्यय बढ...  \n",
       "2  बेरोजगार क नाम आतंक गतिविध क प्रोत्साहित रह का...  \n",
       "3  UP Police Bharti 2024 कॉन्स्टेबल भर् परीक्ष ति...  \n",
       "4  School Close on 22 January राम मंदिर उद्घाटन य...  "
      ]
     },
     "execution_count": 33,
     "metadata": {},
     "output_type": "execute_result"
    }
   ],
   "source": [
    "df['final_text'] = df['stemmed_text'].apply(remove_stopwords)\n",
    "df.head()"
   ]
  },
  {
   "cell_type": "markdown",
   "id": "00972a0f-9e6b-4f4b-a2cd-97f7ca0a34c0",
   "metadata": {},
   "source": [
    "### dropping irrelevant columns:"
   ]
  },
  {
   "cell_type": "code",
   "execution_count": 34,
   "id": "f4e9661f-da42-4d48-937d-35703b3040a7",
   "metadata": {},
   "outputs": [],
   "source": [
    "df = df[['class','final_text']]"
   ]
  },
  {
   "cell_type": "code",
   "execution_count": 35,
   "id": "8a056f8a-8e89-43ec-a292-18725bb82bd4",
   "metadata": {},
   "outputs": [
    {
     "data": {
      "text/html": [
       "<div>\n",
       "<style scoped>\n",
       "    .dataframe tbody tr th:only-of-type {\n",
       "        vertical-align: middle;\n",
       "    }\n",
       "\n",
       "    .dataframe tbody tr th {\n",
       "        vertical-align: top;\n",
       "    }\n",
       "\n",
       "    .dataframe thead th {\n",
       "        text-align: right;\n",
       "    }\n",
       "</style>\n",
       "<table border=\"1\" class=\"dataframe\">\n",
       "  <thead>\n",
       "    <tr style=\"text-align: right;\">\n",
       "      <th></th>\n",
       "      <th>class</th>\n",
       "      <th>final_text</th>\n",
       "    </tr>\n",
       "  </thead>\n",
       "  <tbody>\n",
       "    <tr>\n",
       "      <th>0</th>\n",
       "      <td>1</td>\n",
       "      <td>RussiaUkraine War रूस क कब्ज वाल यूक्रेन म भीष...</td>\n",
       "    </tr>\n",
       "    <tr>\n",
       "      <th>1</th>\n",
       "      <td>1</td>\n",
       "      <td>बजट म बुनियाद ढांच क्षेत्र क ल पूंजीगत व्यय बढ...</td>\n",
       "    </tr>\n",
       "    <tr>\n",
       "      <th>2</th>\n",
       "      <td>1</td>\n",
       "      <td>बेरोजगार क नाम आतंक गतिविध क प्रोत्साहित रह का...</td>\n",
       "    </tr>\n",
       "    <tr>\n",
       "      <th>3</th>\n",
       "      <td>1</td>\n",
       "      <td>UP Police Bharti 2024 कॉन्स्टेबल भर् परीक्ष ति...</td>\n",
       "    </tr>\n",
       "    <tr>\n",
       "      <th>4</th>\n",
       "      <td>1</td>\n",
       "      <td>School Close on 22 January राम मंदिर उद्घाटन य...</td>\n",
       "    </tr>\n",
       "    <tr>\n",
       "      <th>...</th>\n",
       "      <td>...</td>\n",
       "      <td>...</td>\n",
       "    </tr>\n",
       "    <tr>\n",
       "      <th>6699</th>\n",
       "      <td>0</td>\n",
       "      <td>पाकिस्तान म ईरा एयर स्ट्राइक क रिपोर्टिंग प्रत...</td>\n",
       "    </tr>\n",
       "    <tr>\n",
       "      <th>6700</th>\n",
       "      <td>1</td>\n",
       "      <td>Entertainment Top 5 News 21 Jan फाइटर म क बड़ ...</td>\n",
       "    </tr>\n",
       "    <tr>\n",
       "      <th>6701</th>\n",
       "      <td>1</td>\n",
       "      <td>खिल क बच्च क मुंह पोंछ थ म भावुक ह PM मोद</td>\n",
       "    </tr>\n",
       "    <tr>\n",
       "      <th>6702</th>\n",
       "      <td>1</td>\n",
       "      <td>तेलंग महालक्ष्म स्कीम शुर महिल क फ्र बस सर्विस...</td>\n",
       "    </tr>\n",
       "    <tr>\n",
       "      <th>6703</th>\n",
       "      <td>1</td>\n",
       "      <td>मणिपुर म भीड़ क मुख्यमंत्र एन बीरेन सिंह क घर ...</td>\n",
       "    </tr>\n",
       "  </tbody>\n",
       "</table>\n",
       "<p>6704 rows × 2 columns</p>\n",
       "</div>"
      ],
      "text/plain": [
       "      class                                         final_text\n",
       "0         1  RussiaUkraine War रूस क कब्ज वाल यूक्रेन म भीष...\n",
       "1         1  बजट म बुनियाद ढांच क्षेत्र क ल पूंजीगत व्यय बढ...\n",
       "2         1  बेरोजगार क नाम आतंक गतिविध क प्रोत्साहित रह का...\n",
       "3         1  UP Police Bharti 2024 कॉन्स्टेबल भर् परीक्ष ति...\n",
       "4         1  School Close on 22 January राम मंदिर उद्घाटन य...\n",
       "...     ...                                                ...\n",
       "6699      0  पाकिस्तान म ईरा एयर स्ट्राइक क रिपोर्टिंग प्रत...\n",
       "6700      1  Entertainment Top 5 News 21 Jan फाइटर म क बड़ ...\n",
       "6701      1          खिल क बच्च क मुंह पोंछ थ म भावुक ह PM मोद\n",
       "6702      1  तेलंग महालक्ष्म स्कीम शुर महिल क फ्र बस सर्विस...\n",
       "6703      1  मणिपुर म भीड़ क मुख्यमंत्र एन बीरेन सिंह क घर ...\n",
       "\n",
       "[6704 rows x 2 columns]"
      ]
     },
     "execution_count": 35,
     "metadata": {},
     "output_type": "execute_result"
    }
   ],
   "source": [
    "df"
   ]
  },
  {
   "cell_type": "markdown",
   "id": "265d828c-ab31-4605-a550-02c226ad8768",
   "metadata": {},
   "source": [
    "## 5. BERT"
   ]
  },
  {
   "cell_type": "code",
   "execution_count": 36,
   "id": "d51a1fbd-8845-4630-bf92-d035e3ed0fb7",
   "metadata": {},
   "outputs": [
    {
     "name": "stdout",
     "output_type": "stream",
     "text": [
      "Requirement already satisfied: transformers in /Library/Frameworks/Python.framework/Versions/3.12/lib/python3.12/site-packages (4.43.3)\n",
      "Requirement already satisfied: torch in /Library/Frameworks/Python.framework/Versions/3.12/lib/python3.12/site-packages (2.4.0)\n",
      "Requirement already satisfied: filelock in /Library/Frameworks/Python.framework/Versions/3.12/lib/python3.12/site-packages (from transformers) (3.15.4)\n",
      "Requirement already satisfied: huggingface-hub<1.0,>=0.23.2 in /Library/Frameworks/Python.framework/Versions/3.12/lib/python3.12/site-packages (from transformers) (0.24.3)\n",
      "Requirement already satisfied: numpy>=1.17 in /Library/Frameworks/Python.framework/Versions/3.12/lib/python3.12/site-packages (from transformers) (1.26.4)\n",
      "Requirement already satisfied: packaging>=20.0 in /Library/Frameworks/Python.framework/Versions/3.12/lib/python3.12/site-packages (from transformers) (24.1)\n",
      "Requirement already satisfied: pyyaml>=5.1 in /Library/Frameworks/Python.framework/Versions/3.12/lib/python3.12/site-packages (from transformers) (6.0.1)\n",
      "Requirement already satisfied: regex!=2019.12.17 in /Library/Frameworks/Python.framework/Versions/3.12/lib/python3.12/site-packages (from transformers) (2024.7.24)\n",
      "Requirement already satisfied: requests in /Library/Frameworks/Python.framework/Versions/3.12/lib/python3.12/site-packages (from transformers) (2.32.3)\n",
      "Requirement already satisfied: safetensors>=0.4.1 in /Library/Frameworks/Python.framework/Versions/3.12/lib/python3.12/site-packages (from transformers) (0.4.3)\n",
      "Requirement already satisfied: tokenizers<0.20,>=0.19 in /Library/Frameworks/Python.framework/Versions/3.12/lib/python3.12/site-packages (from transformers) (0.19.1)\n",
      "Requirement already satisfied: tqdm>=4.27 in /Library/Frameworks/Python.framework/Versions/3.12/lib/python3.12/site-packages (from transformers) (4.66.4)\n",
      "Requirement already satisfied: typing-extensions>=4.8.0 in /Library/Frameworks/Python.framework/Versions/3.12/lib/python3.12/site-packages (from torch) (4.12.2)\n",
      "Requirement already satisfied: sympy in /Library/Frameworks/Python.framework/Versions/3.12/lib/python3.12/site-packages (from torch) (1.13.1)\n",
      "Requirement already satisfied: networkx in /Library/Frameworks/Python.framework/Versions/3.12/lib/python3.12/site-packages (from torch) (3.3)\n",
      "Requirement already satisfied: jinja2 in /Library/Frameworks/Python.framework/Versions/3.12/lib/python3.12/site-packages (from torch) (3.1.4)\n",
      "Requirement already satisfied: fsspec in /Library/Frameworks/Python.framework/Versions/3.12/lib/python3.12/site-packages (from torch) (2024.5.0)\n",
      "Requirement already satisfied: setuptools in /Library/Frameworks/Python.framework/Versions/3.12/lib/python3.12/site-packages (from torch) (71.1.0)\n",
      "Requirement already satisfied: MarkupSafe>=2.0 in /Library/Frameworks/Python.framework/Versions/3.12/lib/python3.12/site-packages (from jinja2->torch) (2.1.5)\n",
      "Requirement already satisfied: charset-normalizer<4,>=2 in /Library/Frameworks/Python.framework/Versions/3.12/lib/python3.12/site-packages (from requests->transformers) (3.3.2)\n",
      "Requirement already satisfied: idna<4,>=2.5 in /Library/Frameworks/Python.framework/Versions/3.12/lib/python3.12/site-packages (from requests->transformers) (3.7)\n",
      "Requirement already satisfied: urllib3<3,>=1.21.1 in /Library/Frameworks/Python.framework/Versions/3.12/lib/python3.12/site-packages (from requests->transformers) (2.2.2)\n",
      "Requirement already satisfied: certifi>=2017.4.17 in /Library/Frameworks/Python.framework/Versions/3.12/lib/python3.12/site-packages (from requests->transformers) (2024.7.4)\n",
      "Requirement already satisfied: mpmath<1.4,>=1.1.0 in /Library/Frameworks/Python.framework/Versions/3.12/lib/python3.12/site-packages (from sympy->torch) (1.3.0)\n",
      "Note: you may need to restart the kernel to use updated packages.\n"
     ]
    }
   ],
   "source": [
    "pip install transformers torch"
   ]
  },
  {
   "cell_type": "code",
   "execution_count": 37,
   "id": "f640502e-c3d1-4833-9f16-e79cce02f98d",
   "metadata": {},
   "outputs": [
    {
     "name": "stdout",
     "output_type": "stream",
     "text": [
      "Requirement already satisfied: ipywidgets in /Library/Frameworks/Python.framework/Versions/3.12/lib/python3.12/site-packages (8.1.3)\n",
      "Requirement already satisfied: comm>=0.1.3 in /Library/Frameworks/Python.framework/Versions/3.12/lib/python3.12/site-packages (from ipywidgets) (0.2.2)\n",
      "Requirement already satisfied: ipython>=6.1.0 in /Library/Frameworks/Python.framework/Versions/3.12/lib/python3.12/site-packages (from ipywidgets) (8.26.0)\n",
      "Requirement already satisfied: traitlets>=4.3.1 in /Library/Frameworks/Python.framework/Versions/3.12/lib/python3.12/site-packages (from ipywidgets) (5.14.3)\n",
      "Requirement already satisfied: widgetsnbextension~=4.0.11 in /Library/Frameworks/Python.framework/Versions/3.12/lib/python3.12/site-packages (from ipywidgets) (4.0.11)\n",
      "Requirement already satisfied: jupyterlab-widgets~=3.0.11 in /Library/Frameworks/Python.framework/Versions/3.12/lib/python3.12/site-packages (from ipywidgets) (3.0.11)\n",
      "Requirement already satisfied: decorator in /Library/Frameworks/Python.framework/Versions/3.12/lib/python3.12/site-packages (from ipython>=6.1.0->ipywidgets) (5.1.1)\n",
      "Requirement already satisfied: jedi>=0.16 in /Library/Frameworks/Python.framework/Versions/3.12/lib/python3.12/site-packages (from ipython>=6.1.0->ipywidgets) (0.19.1)\n",
      "Requirement already satisfied: matplotlib-inline in /Library/Frameworks/Python.framework/Versions/3.12/lib/python3.12/site-packages (from ipython>=6.1.0->ipywidgets) (0.1.7)\n",
      "Requirement already satisfied: prompt-toolkit<3.1.0,>=3.0.41 in /Library/Frameworks/Python.framework/Versions/3.12/lib/python3.12/site-packages (from ipython>=6.1.0->ipywidgets) (3.0.47)\n",
      "Requirement already satisfied: pygments>=2.4.0 in /Library/Frameworks/Python.framework/Versions/3.12/lib/python3.12/site-packages (from ipython>=6.1.0->ipywidgets) (2.18.0)\n",
      "Requirement already satisfied: stack-data in /Library/Frameworks/Python.framework/Versions/3.12/lib/python3.12/site-packages (from ipython>=6.1.0->ipywidgets) (0.6.3)\n",
      "Requirement already satisfied: pexpect>4.3 in /Library/Frameworks/Python.framework/Versions/3.12/lib/python3.12/site-packages (from ipython>=6.1.0->ipywidgets) (4.9.0)\n",
      "Requirement already satisfied: parso<0.9.0,>=0.8.3 in /Library/Frameworks/Python.framework/Versions/3.12/lib/python3.12/site-packages (from jedi>=0.16->ipython>=6.1.0->ipywidgets) (0.8.4)\n",
      "Requirement already satisfied: ptyprocess>=0.5 in /Library/Frameworks/Python.framework/Versions/3.12/lib/python3.12/site-packages (from pexpect>4.3->ipython>=6.1.0->ipywidgets) (0.7.0)\n",
      "Requirement already satisfied: wcwidth in /Library/Frameworks/Python.framework/Versions/3.12/lib/python3.12/site-packages (from prompt-toolkit<3.1.0,>=3.0.41->ipython>=6.1.0->ipywidgets) (0.2.13)\n",
      "Requirement already satisfied: executing>=1.2.0 in /Library/Frameworks/Python.framework/Versions/3.12/lib/python3.12/site-packages (from stack-data->ipython>=6.1.0->ipywidgets) (2.0.1)\n",
      "Requirement already satisfied: asttokens>=2.1.0 in /Library/Frameworks/Python.framework/Versions/3.12/lib/python3.12/site-packages (from stack-data->ipython>=6.1.0->ipywidgets) (2.4.1)\n",
      "Requirement already satisfied: pure-eval in /Library/Frameworks/Python.framework/Versions/3.12/lib/python3.12/site-packages (from stack-data->ipython>=6.1.0->ipywidgets) (0.2.3)\n",
      "Requirement already satisfied: six>=1.12.0 in /Library/Frameworks/Python.framework/Versions/3.12/lib/python3.12/site-packages (from asttokens>=2.1.0->stack-data->ipython>=6.1.0->ipywidgets) (1.16.0)\n"
     ]
    }
   ],
   "source": [
    "!pip install ipywidgets"
   ]
  },
  {
   "cell_type": "code",
   "execution_count": 51,
   "id": "6ed7967b-2232-4391-a782-d5f5eb1eaac3",
   "metadata": {},
   "outputs": [],
   "source": [
    "import torch\n",
    "from transformers import DistilBertTokenizer, DistilBertForSequenceClassification, Trainer, TrainingArguments\n",
    "from sklearn.model_selection import train_test_split\n",
    "from datasets import load_metric, Dataset\n"
   ]
  },
  {
   "cell_type": "code",
   "execution_count": null,
   "id": "01b90494-23eb-4c3a-a081-e66473930cfb",
   "metadata": {},
   "outputs": [],
   "source": []
  },
  {
   "cell_type": "code",
   "execution_count": null,
   "id": "7e6e0295-9dfa-47ef-a8ad-76373d5a8a63",
   "metadata": {},
   "outputs": [],
   "source": []
  },
  {
   "cell_type": "markdown",
   "id": "615896d6-fab3-4b09-8cbc-cdf690e3b1dd",
   "metadata": {},
   "source": [
    "### Load a Pretrained BERT Model and Tokenizer"
   ]
  },
  {
   "cell_type": "code",
   "execution_count": 52,
   "id": "71740fe2-362b-4aa3-8c05-39b98cdf27d2",
   "metadata": {},
   "outputs": [
    {
     "data": {
      "application/vnd.jupyter.widget-view+json": {
       "model_id": "01f5ee3f36f842d9b69819e5af203e66",
       "version_major": 2,
       "version_minor": 0
      },
      "text/plain": [
       "tokenizer_config.json:   0%|          | 0.00/49.0 [00:00<?, ?B/s]"
      ]
     },
     "metadata": {},
     "output_type": "display_data"
    },
    {
     "data": {
      "application/vnd.jupyter.widget-view+json": {
       "model_id": "fbfb955d40ba487fa0395828aa0041e6",
       "version_major": 2,
       "version_minor": 0
      },
      "text/plain": [
       "vocab.txt:   0%|          | 0.00/996k [00:00<?, ?B/s]"
      ]
     },
     "metadata": {},
     "output_type": "display_data"
    },
    {
     "data": {
      "application/vnd.jupyter.widget-view+json": {
       "model_id": "4733e4f5abac44149260b469d7082b6e",
       "version_major": 2,
       "version_minor": 0
      },
      "text/plain": [
       "tokenizer.json:   0%|          | 0.00/1.96M [00:00<?, ?B/s]"
      ]
     },
     "metadata": {},
     "output_type": "display_data"
    },
    {
     "data": {
      "application/vnd.jupyter.widget-view+json": {
       "model_id": "37592cb8160249218d64c50586d6d9b2",
       "version_major": 2,
       "version_minor": 0
      },
      "text/plain": [
       "config.json:   0%|          | 0.00/466 [00:00<?, ?B/s]"
      ]
     },
     "metadata": {},
     "output_type": "display_data"
    },
    {
     "data": {
      "application/vnd.jupyter.widget-view+json": {
       "model_id": "db9f419d430641ed90185961c5f47f60",
       "version_major": 2,
       "version_minor": 0
      },
      "text/plain": [
       "model.safetensors:   0%|          | 0.00/542M [00:00<?, ?B/s]"
      ]
     },
     "metadata": {},
     "output_type": "display_data"
    },
    {
     "name": "stderr",
     "output_type": "stream",
     "text": [
      "Some weights of DistilBertForSequenceClassification were not initialized from the model checkpoint at distilbert-base-multilingual-cased and are newly initialized: ['classifier.bias', 'classifier.weight', 'pre_classifier.bias', 'pre_classifier.weight']\n",
      "You should probably TRAIN this model on a down-stream task to be able to use it for predictions and inference.\n"
     ]
    }
   ],
   "source": [
    "model_name = 'distilbert-base-multilingual-cased'\n",
    "tokenizer = DistilBertTokenizer.from_pretrained(model_name)\n",
    "model = DistilBertForSequenceClassification.from_pretrained(model_name, num_labels=2)"
   ]
  },
  {
   "cell_type": "markdown",
   "id": "20ace1be-b0de-40de-9d5a-7fc2ac85af2f",
   "metadata": {},
   "source": [
    "### rename class column to labels:"
   ]
  },
  {
   "cell_type": "code",
   "execution_count": 53,
   "id": "7c57ed04-0a34-42ad-b5a0-b621255f94af",
   "metadata": {},
   "outputs": [
    {
     "data": {
      "text/html": [
       "<div>\n",
       "<style scoped>\n",
       "    .dataframe tbody tr th:only-of-type {\n",
       "        vertical-align: middle;\n",
       "    }\n",
       "\n",
       "    .dataframe tbody tr th {\n",
       "        vertical-align: top;\n",
       "    }\n",
       "\n",
       "    .dataframe thead th {\n",
       "        text-align: right;\n",
       "    }\n",
       "</style>\n",
       "<table border=\"1\" class=\"dataframe\">\n",
       "  <thead>\n",
       "    <tr style=\"text-align: right;\">\n",
       "      <th></th>\n",
       "      <th>label</th>\n",
       "      <th>final_text</th>\n",
       "    </tr>\n",
       "  </thead>\n",
       "  <tbody>\n",
       "    <tr>\n",
       "      <th>0</th>\n",
       "      <td>1</td>\n",
       "      <td>RussiaUkraine War रूस क कब्ज वाल यूक्रेन म भीष...</td>\n",
       "    </tr>\n",
       "    <tr>\n",
       "      <th>1</th>\n",
       "      <td>1</td>\n",
       "      <td>बजट म बुनियाद ढांच क्षेत्र क ल पूंजीगत व्यय बढ...</td>\n",
       "    </tr>\n",
       "    <tr>\n",
       "      <th>2</th>\n",
       "      <td>1</td>\n",
       "      <td>बेरोजगार क नाम आतंक गतिविध क प्रोत्साहित रह का...</td>\n",
       "    </tr>\n",
       "    <tr>\n",
       "      <th>3</th>\n",
       "      <td>1</td>\n",
       "      <td>UP Police Bharti 2024 कॉन्स्टेबल भर् परीक्ष ति...</td>\n",
       "    </tr>\n",
       "    <tr>\n",
       "      <th>4</th>\n",
       "      <td>1</td>\n",
       "      <td>School Close on 22 January राम मंदिर उद्घाटन य...</td>\n",
       "    </tr>\n",
       "    <tr>\n",
       "      <th>...</th>\n",
       "      <td>...</td>\n",
       "      <td>...</td>\n",
       "    </tr>\n",
       "    <tr>\n",
       "      <th>6699</th>\n",
       "      <td>0</td>\n",
       "      <td>पाकिस्तान म ईरा एयर स्ट्राइक क रिपोर्टिंग प्रत...</td>\n",
       "    </tr>\n",
       "    <tr>\n",
       "      <th>6700</th>\n",
       "      <td>1</td>\n",
       "      <td>Entertainment Top 5 News 21 Jan फाइटर म क बड़ ...</td>\n",
       "    </tr>\n",
       "    <tr>\n",
       "      <th>6701</th>\n",
       "      <td>1</td>\n",
       "      <td>खिल क बच्च क मुंह पोंछ थ म भावुक ह PM मोद</td>\n",
       "    </tr>\n",
       "    <tr>\n",
       "      <th>6702</th>\n",
       "      <td>1</td>\n",
       "      <td>तेलंग महालक्ष्म स्कीम शुर महिल क फ्र बस सर्विस...</td>\n",
       "    </tr>\n",
       "    <tr>\n",
       "      <th>6703</th>\n",
       "      <td>1</td>\n",
       "      <td>मणिपुर म भीड़ क मुख्यमंत्र एन बीरेन सिंह क घर ...</td>\n",
       "    </tr>\n",
       "  </tbody>\n",
       "</table>\n",
       "<p>6704 rows × 2 columns</p>\n",
       "</div>"
      ],
      "text/plain": [
       "      label                                         final_text\n",
       "0         1  RussiaUkraine War रूस क कब्ज वाल यूक्रेन म भीष...\n",
       "1         1  बजट म बुनियाद ढांच क्षेत्र क ल पूंजीगत व्यय बढ...\n",
       "2         1  बेरोजगार क नाम आतंक गतिविध क प्रोत्साहित रह का...\n",
       "3         1  UP Police Bharti 2024 कॉन्स्टेबल भर् परीक्ष ति...\n",
       "4         1  School Close on 22 January राम मंदिर उद्घाटन य...\n",
       "...     ...                                                ...\n",
       "6699      0  पाकिस्तान म ईरा एयर स्ट्राइक क रिपोर्टिंग प्रत...\n",
       "6700      1  Entertainment Top 5 News 21 Jan फाइटर म क बड़ ...\n",
       "6701      1          खिल क बच्च क मुंह पोंछ थ म भावुक ह PM मोद\n",
       "6702      1  तेलंग महालक्ष्म स्कीम शुर महिल क फ्र बस सर्विस...\n",
       "6703      1  मणिपुर म भीड़ क मुख्यमंत्र एन बीरेन सिंह क घर ...\n",
       "\n",
       "[6704 rows x 2 columns]"
      ]
     },
     "execution_count": 53,
     "metadata": {},
     "output_type": "execute_result"
    }
   ],
   "source": [
    "df"
   ]
  },
  {
   "cell_type": "code",
   "execution_count": 54,
   "id": "fe800fc4-45d0-4def-a84e-b9b22fc86c97",
   "metadata": {},
   "outputs": [],
   "source": [
    "df = df.rename(columns={'class': 'label'})"
   ]
  },
  {
   "cell_type": "code",
   "execution_count": null,
   "id": "862c25da-42cd-49f0-bbad-c5ad35f2e8c0",
   "metadata": {},
   "outputs": [],
   "source": []
  },
  {
   "cell_type": "markdown",
   "id": "c4824be0-50a7-46cb-9b3f-cfc60719a58d",
   "metadata": {},
   "source": [
    "### Tokenize the Data:"
   ]
  },
  {
   "cell_type": "code",
   "execution_count": 55,
   "id": "91ccc63b-0eac-4ac8-82db-8e9a87c09c81",
   "metadata": {},
   "outputs": [
    {
     "data": {
      "application/vnd.jupyter.widget-view+json": {
       "model_id": "30022813a9214d47a64defbdb1b15a81",
       "version_major": 2,
       "version_minor": 0
      },
      "text/plain": [
       "Map:   0%|          | 0/5363 [00:00<?, ? examples/s]"
      ]
     },
     "metadata": {},
     "output_type": "display_data"
    },
    {
     "data": {
      "application/vnd.jupyter.widget-view+json": {
       "model_id": "ec8f13cf42af4e5481a3bf08b84daf59",
       "version_major": 2,
       "version_minor": 0
      },
      "text/plain": [
       "Map:   0%|          | 0/1341 [00:00<?, ? examples/s]"
      ]
     },
     "metadata": {},
     "output_type": "display_data"
    }
   ],
   "source": [
    "def tokenize_function(examples):\n",
    "    return tokenizer(examples['final_text'], padding=\"max_length\", truncation=True, max_length=128)  # Reduce max_length\n",
    "\n",
    "\n",
    "# Assuming your data is a Pandas DataFrame\n",
    "df_train, df_test = train_test_split(df, test_size=0.2)\n",
    "\n",
    "train_dataset = Dataset.from_pandas(df_train)\n",
    "test_dataset = Dataset.from_pandas(df_test)\n",
    "train_dataset = train_dataset.map(tokenize_function, batched=True)\n",
    "test_dataset = test_dataset.map(tokenize_function, batched=True)"
   ]
  },
  {
   "cell_type": "code",
   "execution_count": 56,
   "id": "f1e3c013-5233-48f8-b647-f34444c36d4e",
   "metadata": {},
   "outputs": [
    {
     "name": "stderr",
     "output_type": "stream",
     "text": [
      "/Library/Frameworks/Python.framework/Versions/3.12/lib/python3.12/site-packages/transformers/training_args.py:1525: FutureWarning: `evaluation_strategy` is deprecated and will be removed in version 4.46 of 🤗 Transformers. Use `eval_strategy` instead\n",
      "  warnings.warn(\n"
     ]
    }
   ],
   "source": [
    "training_args = TrainingArguments(\n",
    "    output_dir='./results',\n",
    "    num_train_epochs=3,\n",
    "    gradient_accumulation_steps=2,\n",
    "    per_device_train_batch_size=4,\n",
    "    per_device_eval_batch_size=4,\n",
    "    warmup_steps=500,\n",
    "    weight_decay=0.01,\n",
    "    logging_dir='./logs',\n",
    "    logging_steps=10,\n",
    "    evaluation_strategy=\"epoch\",\n",
    "    save_strategy=\"epoch\"\n",
    ")"
   ]
  },
  {
   "cell_type": "code",
   "execution_count": 57,
   "id": "707ce742-711b-4703-ada7-d1be1b9bb963",
   "metadata": {},
   "outputs": [],
   "source": [
    "trainer = Trainer(\n",
    "    model=model,\n",
    "    args=training_args,\n",
    "    train_dataset=train_dataset,\n",
    "    eval_dataset=test_dataset,\n",
    "    tokenizer=tokenizer\n",
    ")"
   ]
  },
  {
   "cell_type": "code",
   "execution_count": 58,
   "id": "e033ced3-97e3-4a70-8cd5-93801ce4b623",
   "metadata": {},
   "outputs": [
    {
     "data": {
      "text/html": [
       "\n",
       "    <div>\n",
       "      \n",
       "      <progress value='2010' max='2010' style='width:300px; height:20px; vertical-align: middle;'></progress>\n",
       "      [2010/2010 18:52, Epoch 2/3]\n",
       "    </div>\n",
       "    <table border=\"1\" class=\"dataframe\">\n",
       "  <thead>\n",
       " <tr style=\"text-align: left;\">\n",
       "      <th>Epoch</th>\n",
       "      <th>Training Loss</th>\n",
       "      <th>Validation Loss</th>\n",
       "    </tr>\n",
       "  </thead>\n",
       "  <tbody>\n",
       "    <tr>\n",
       "      <td>0</td>\n",
       "      <td>0.023700</td>\n",
       "      <td>0.208959</td>\n",
       "    </tr>\n",
       "    <tr>\n",
       "      <td>2</td>\n",
       "      <td>0.000200</td>\n",
       "      <td>0.117370</td>\n",
       "    </tr>\n",
       "  </tbody>\n",
       "</table><p>"
      ],
      "text/plain": [
       "<IPython.core.display.HTML object>"
      ]
     },
     "metadata": {},
     "output_type": "display_data"
    },
    {
     "data": {
      "text/plain": [
       "TrainOutput(global_step=2010, training_loss=0.12336385314426945, metrics={'train_runtime': 1140.8833, 'train_samples_per_second': 14.102, 'train_steps_per_second': 1.762, 'total_flos': 532452708897792.0, 'train_loss': 0.12336385314426945, 'epoch': 2.9977628635346756})"
      ]
     },
     "execution_count": 58,
     "metadata": {},
     "output_type": "execute_result"
    }
   ],
   "source": [
    "trainer.train()"
   ]
  },
  {
   "cell_type": "code",
   "execution_count": 59,
   "id": "e04fafad-432c-44c9-a2e9-4d80e8b32ff9",
   "metadata": {},
   "outputs": [
    {
     "data": {
      "text/html": [],
      "text/plain": [
       "<IPython.core.display.HTML object>"
      ]
     },
     "metadata": {},
     "output_type": "display_data"
    },
    {
     "name": "stdout",
     "output_type": "stream",
     "text": [
      "{'eval_loss': 0.11737023293972015, 'eval_runtime': 11.9713, 'eval_samples_per_second': 112.018, 'eval_steps_per_second': 28.067, 'epoch': 2.9977628635346756}\n"
     ]
    }
   ],
   "source": [
    "results = trainer.evaluate()\n",
    "print(results)"
   ]
  },
  {
   "cell_type": "code",
   "execution_count": 60,
   "id": "68cae595-745a-4113-bff2-06da6b944f33",
   "metadata": {},
   "outputs": [],
   "source": [
    "predictions = trainer.predict(test_dataset)\n",
    "preds = predictions.predictions.argmax(-1)"
   ]
  },
  {
   "cell_type": "code",
   "execution_count": 71,
   "id": "b8b521b5-9e1f-42ef-b32e-d7915fa676b1",
   "metadata": {},
   "outputs": [
    {
     "name": "stdout",
     "output_type": "stream",
     "text": [
      "Enter a Hindi news headline:  Vladimir Putin North Korea Visit उत्तर कोरिय क यात्र रूस राष्ट्रपत व्लादिमीर पुतिन किम जोंग स मुलाकात\n"
     ]
    },
    {
     "name": "stdout",
     "output_type": "stream",
     "text": [
      "The model predicts this news to be: Real\n"
     ]
    }
   ],
   "source": [
    "import torch\n",
    "\n",
    "# Check if MPS (Metal Performance Shaders) is available\n",
    "device = torch.device(\"mps\") if torch.backends.mps.is_available() else torch.device(\"cpu\")\n",
    "\n",
    "def test_model_on_input():\n",
    "    user_input = input(\"Enter a Hindi news headline: \")\n",
    "\n",
    "    # Tokenize the user input\n",
    "    encoded_input = tokenizer(user_input, return_tensors='pt', padding=True, truncation=True).to(device)\n",
    "\n",
    "    # Move the model to the device\n",
    "    model.to(device)\n",
    "\n",
    "    # Make the prediction\n",
    "    with torch.no_grad():\n",
    "        output = model(**encoded_input)\n",
    "        prediction = torch.argmax(output.logits, dim=-1).item()\n",
    "\n",
    "    # Interpret the prediction\n",
    "    result = \"Fake\" if prediction == 0 else \"Real\"\n",
    "    print(f\"The model predicts this news to be: {result}\")\n",
    "\n",
    "# Call the function to test\n",
    "test_model_on_input()\n"
   ]
  },
  {
   "cell_type": "code",
   "execution_count": 69,
   "id": "54007b4b-adef-4edc-9a30-7cd3321a72fe",
   "metadata": {},
   "outputs": [],
   "source": [
    "# Save df_test to a new CSV file\n",
    "df_test.to_csv('test_dataset.csv', index=False)"
   ]
  }
 ],
 "metadata": {
  "kernelspec": {
   "display_name": "Python 3 (ipykernel)",
   "language": "python",
   "name": "python3"
  },
  "language_info": {
   "codemirror_mode": {
    "name": "ipython",
    "version": 3
   },
   "file_extension": ".py",
   "mimetype": "text/x-python",
   "name": "python",
   "nbconvert_exporter": "python",
   "pygments_lexer": "ipython3",
   "version": "3.12.4"
  }
 },
 "nbformat": 4,
 "nbformat_minor": 5
}
